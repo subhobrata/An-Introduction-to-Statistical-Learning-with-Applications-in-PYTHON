{
  "nbformat": 4,
  "nbformat_minor": 0,
  "metadata": {
    "colab": {
      "name": "Chapter_2_sec_3.1_3.5.ipynb",
      "version": "0.3.2",
      "provenance": [],
      "toc_visible": true
    },
    "kernelspec": {
      "display_name": "Python 2",
      "language": "python",
      "name": "python2"
    }
  },
  "cells": [
    {
      "metadata": {
        "id": "buto6vGG9quF",
        "colab_type": "text"
      },
      "cell_type": "markdown",
      "source": [
        "# This is the Python Code for Chapter2 ''Statistical Learning\""
      ]
    },
    {
      "metadata": {
        "id": "mxcRmdtY9quL",
        "colab_type": "text"
      },
      "cell_type": "markdown",
      "source": [
        "## 2.3.1 Basic Commands"
      ]
    },
    {
      "metadata": {
        "id": "W8XWHWYi9quM",
        "colab_type": "code",
        "colab": {
          "base_uri": "https://localhost:8080/",
          "height": 34
        },
        "outputId": "41308701-602e-47ac-828f-f53c07f62027"
      },
      "cell_type": "code",
      "source": [
        "import numpy as np  # for calculation purpose, let use np.array \n",
        "import random # for the random \n",
        "\n",
        "x = np.array([1, 3, 2, 5])\n",
        "print x"
      ],
      "execution_count": 1,
      "outputs": [
        {
          "output_type": "stream",
          "text": [
            "[1 3 2 5]\n"
          ],
          "name": "stdout"
        }
      ]
    },
    {
      "metadata": {
        "id": "vJYvrq4i9quP",
        "colab_type": "code",
        "colab": {
          "base_uri": "https://localhost:8080/",
          "height": 34
        },
        "outputId": "4afe4921-602a-45c4-e694-f0965b987b10"
      },
      "cell_type": "code",
      "source": [
        "x = np.array([1, 6, 2])\n",
        "print x\n",
        "y = [1, 4, 3]"
      ],
      "execution_count": 2,
      "outputs": [
        {
          "output_type": "stream",
          "text": [
            "[1 6 2]\n"
          ],
          "name": "stdout"
        }
      ]
    },
    {
      "metadata": {
        "id": "F3JQU90g9quS",
        "colab_type": "text"
      },
      "cell_type": "markdown",
      "source": [
        "### use len() to find length of a vector"
      ]
    },
    {
      "metadata": {
        "id": "RWTzBIyG9quT",
        "colab_type": "code",
        "colab": {
          "base_uri": "https://localhost:8080/",
          "height": 34
        },
        "outputId": "d869082a-3fd5-4aae-c045-4c751b67e385"
      },
      "cell_type": "code",
      "source": [
        "len(x)  "
      ],
      "execution_count": 3,
      "outputs": [
        {
          "output_type": "execute_result",
          "data": {
            "text/plain": [
              "3"
            ]
          },
          "metadata": {
            "tags": []
          },
          "execution_count": 3
        }
      ]
    },
    {
      "metadata": {
        "id": "c65N6mzH9quV",
        "colab_type": "code",
        "colab": {
          "base_uri": "https://localhost:8080/",
          "height": 34
        },
        "outputId": "c12acf0d-fce0-4cb5-d655-2f7d4932549f"
      },
      "cell_type": "code",
      "source": [
        "len(y)"
      ],
      "execution_count": 4,
      "outputs": [
        {
          "output_type": "execute_result",
          "data": {
            "text/plain": [
              "3"
            ]
          },
          "metadata": {
            "tags": []
          },
          "execution_count": 4
        }
      ]
    },
    {
      "metadata": {
        "id": "OPLBcDMz9quX",
        "colab_type": "code",
        "colab": {
          "base_uri": "https://localhost:8080/",
          "height": 34
        },
        "outputId": "107a1caa-7b5d-4e67-d1bd-90d8540982f8"
      },
      "cell_type": "code",
      "source": [
        "print(x + y) # please note that we define x and y a little bit differently, but we still can do the calculation \n",
        "y = np.array([1, 4, 3])"
      ],
      "execution_count": 5,
      "outputs": [
        {
          "output_type": "stream",
          "text": [
            "[ 2 10  5]\n"
          ],
          "name": "stdout"
        }
      ]
    },
    {
      "metadata": {
        "id": "wtPxwl6U9quZ",
        "colab_type": "code",
        "colab": {
          "base_uri": "https://localhost:8080/",
          "height": 119
        },
        "outputId": "1cc1aafe-0b87-4999-e4f1-bb1f2a38c825"
      },
      "cell_type": "code",
      "source": [
        "whos"
      ],
      "execution_count": 6,
      "outputs": [
        {
          "output_type": "stream",
          "text": [
            "Variable   Type       Data/Info\n",
            "-------------------------------\n",
            "np         module     <module 'numpy' from '/us<...>ages/numpy/__init__.pyc'>\n",
            "random     module     <module 'random' from '/u<...>ib/python2.7/random.pyc'>\n",
            "x          ndarray    3: 3 elems, type `int64`, 24 bytes\n",
            "y          ndarray    3: 3 elems, type `int64`, 24 bytes\n"
          ],
          "name": "stdout"
        }
      ]
    },
    {
      "metadata": {
        "id": "X_PzVFwW9quc",
        "colab_type": "code",
        "colab": {}
      },
      "cell_type": "code",
      "source": [
        "del x # reset_selective x"
      ],
      "execution_count": 0,
      "outputs": []
    },
    {
      "metadata": {
        "id": "00OyUVtO9quf",
        "colab_type": "code",
        "colab": {
          "base_uri": "https://localhost:8080/",
          "height": 102
        },
        "outputId": "9d408e5b-92e1-48a7-dc1c-81b10525c663"
      },
      "cell_type": "code",
      "source": [
        "%whos"
      ],
      "execution_count": 8,
      "outputs": [
        {
          "output_type": "stream",
          "text": [
            "Variable   Type       Data/Info\n",
            "-------------------------------\n",
            "np         module     <module 'numpy' from '/us<...>ages/numpy/__init__.pyc'>\n",
            "random     module     <module 'random' from '/u<...>ib/python2.7/random.pyc'>\n",
            "y          ndarray    3: 3 elems, type `int64`, 24 bytes\n"
          ],
          "name": "stdout"
        }
      ]
    },
    {
      "metadata": {
        "id": "dCrJONam9qun",
        "colab_type": "code",
        "colab": {}
      },
      "cell_type": "code",
      "source": [
        "reset?"
      ],
      "execution_count": 0,
      "outputs": []
    },
    {
      "metadata": {
        "id": "MA5k9yYa9qup",
        "colab_type": "code",
        "colab": {
          "base_uri": "https://localhost:8080/",
          "height": 34
        },
        "outputId": "94709b22-37d2-412b-da7b-eb26dee1a7c4"
      },
      "cell_type": "code",
      "source": [
        "x = [[1,2],[3, 4]]\n",
        "print x"
      ],
      "execution_count": 10,
      "outputs": [
        {
          "output_type": "stream",
          "text": [
            "[[1, 2], [3, 4]]\n"
          ],
          "name": "stdout"
        }
      ]
    },
    {
      "metadata": {
        "id": "myiSoZQs9qur",
        "colab_type": "code",
        "colab": {}
      },
      "cell_type": "code",
      "source": [
        "x = np.array([1, 2, 3, 4])"
      ],
      "execution_count": 0,
      "outputs": []
    },
    {
      "metadata": {
        "id": "D2J3UlER9qut",
        "colab_type": "code",
        "colab": {
          "base_uri": "https://localhost:8080/",
          "height": 51
        },
        "outputId": "c7714b01-35c4-4cd0-cf64-34e1762cc86b"
      },
      "cell_type": "code",
      "source": [
        "x = np.reshape(x, [2,2])\n",
        "print x"
      ],
      "execution_count": 12,
      "outputs": [
        {
          "output_type": "stream",
          "text": [
            "[[1 2]\n",
            " [3 4]]\n"
          ],
          "name": "stdout"
        }
      ]
    },
    {
      "metadata": {
        "id": "PCTrlaq39quv",
        "colab_type": "code",
        "colab": {
          "base_uri": "https://localhost:8080/",
          "height": 51
        },
        "outputId": "274d7e44-c892-4367-c25f-034b1e3472e3"
      },
      "cell_type": "code",
      "source": [
        "np.sqrt(x)\n",
        "\n",
        "x**2\n",
        "np.square(x)"
      ],
      "execution_count": 13,
      "outputs": [
        {
          "output_type": "execute_result",
          "data": {
            "text/plain": [
              "array([[ 1,  4],\n",
              "       [ 9, 16]])"
            ]
          },
          "metadata": {
            "tags": []
          },
          "execution_count": 13
        }
      ]
    },
    {
      "metadata": {
        "id": "S6LpId9S9qux",
        "colab_type": "code",
        "colab": {
          "base_uri": "https://localhost:8080/",
          "height": 306
        },
        "outputId": "bdee7f13-9e89-4a6a-9284-9f73b441bbc8"
      },
      "cell_type": "code",
      "source": [
        "mu, sigma = 0, 1\n",
        "x = np.random.normal(mu, sigma, 50)\n",
        "y = x + np.random.normal(50, 0.1, 50)\n",
        "print x, y"
      ],
      "execution_count": 14,
      "outputs": [
        {
          "output_type": "stream",
          "text": [
            "[-1.46758743 -0.65997743 -0.71888713  0.46636506  1.08453027 -1.45541051\n",
            "  0.5521751   0.90306125 -1.16409184  0.54042586  1.52231228  0.90333094\n",
            " -0.82415853 -0.71465785  0.12207496 -1.60167201 -1.08085216  0.62242877\n",
            "  0.32554585  1.46902805  1.09404824 -0.39196628 -0.70112939  0.3942339\n",
            "  1.08916641  1.21833395 -0.73564152 -1.62978019 -0.02667298 -1.64861495\n",
            " -0.3104266   1.50674245  1.26712506  0.21965813 -0.51163261  0.33000974\n",
            "  1.66465595 -0.38364245 -1.36257449  0.81482265  0.12586335 -0.23237663\n",
            " -1.47662257 -0.02519817  0.08062599 -0.464139   -1.11141415  1.6323971\n",
            " -1.09256262  0.40653825] [48.43831474 49.34819505 49.52616732 50.48950609 51.20465497 48.38123181\n",
            " 50.49740039 50.93051631 48.92650591 50.42686203 51.42213347 50.73119698\n",
            " 49.0466627  49.39470862 50.14514918 48.38225326 48.90646598 50.60934093\n",
            " 50.28755753 51.57464241 50.91556857 49.57234289 49.21962421 50.1510607\n",
            " 50.8765971  51.23462303 49.26595936 48.35701635 50.03543649 48.42944412\n",
            " 49.5894706  51.57200539 51.38213841 50.34659319 49.43545624 50.11328769\n",
            " 51.76896768 49.61298614 48.60020551 50.7772267  50.35160605 49.75774209\n",
            " 48.54488681 50.10291511 49.85474189 49.55439033 48.97704282 51.63509492\n",
            " 48.82565435 50.55758965]\n"
          ],
          "name": "stdout"
        }
      ]
    },
    {
      "metadata": {
        "id": "3qqDfTxv9quz",
        "colab_type": "code",
        "colab": {
          "base_uri": "https://localhost:8080/",
          "height": 51
        },
        "outputId": "7cd25aee-ab62-416f-9c55-4e4d6179d744"
      },
      "cell_type": "code",
      "source": [
        "np.corrcoef(x, y) "
      ],
      "execution_count": 15,
      "outputs": [
        {
          "output_type": "execute_result",
          "data": {
            "text/plain": [
              "array([[1.        , 0.99351714],\n",
              "       [0.99351714, 1.        ]])"
            ]
          },
          "metadata": {
            "tags": []
          },
          "execution_count": 15
        }
      ]
    },
    {
      "metadata": {
        "id": "AQQAlOOF9qu1",
        "colab_type": "text"
      },
      "cell_type": "markdown",
      "source": [
        "### Above will return the correlation matrix "
      ]
    },
    {
      "metadata": {
        "id": "tj0HYcjx9qu1",
        "colab_type": "code",
        "colab": {
          "base_uri": "https://localhost:8080/",
          "height": 34
        },
        "outputId": "e38bf842-7ecd-4279-9c51-7d5565e54aec"
      },
      "cell_type": "code",
      "source": [
        "np.corrcoef(x, y)[0,1]"
      ],
      "execution_count": 16,
      "outputs": [
        {
          "output_type": "execute_result",
          "data": {
            "text/plain": [
              "0.9935171392711907"
            ]
          },
          "metadata": {
            "tags": []
          },
          "execution_count": 16
        }
      ]
    },
    {
      "metadata": {
        "id": "r9Ksxwf39qu3",
        "colab_type": "code",
        "colab": {}
      },
      "cell_type": "code",
      "source": [
        "import random \n",
        "random.seed(2333)"
      ],
      "execution_count": 0,
      "outputs": []
    },
    {
      "metadata": {
        "id": "1AF_BhNG9qu6",
        "colab_type": "code",
        "colab": {
          "base_uri": "https://localhost:8080/",
          "height": 187
        },
        "outputId": "e8ff23b1-e2e6-4f07-b151-1c5b973449d6"
      },
      "cell_type": "code",
      "source": [
        "np.random.normal(mu, sigma, 50) # after set up the seed, this should genernate the same result"
      ],
      "execution_count": 18,
      "outputs": [
        {
          "output_type": "execute_result",
          "data": {
            "text/plain": [
              "array([-1.53528677,  0.21078284,  0.89648092,  0.90453924, -1.22722582,\n",
              "        0.40805477,  0.34418836, -0.62967703, -1.39262428, -1.52765823,\n",
              "       -0.13349784,  1.10232744, -0.40033828, -0.56645296,  1.04844356,\n",
              "        0.96866084, -0.55912361,  0.76894434,  0.45001255,  1.55637588,\n",
              "        0.09569849,  0.37566652,  0.61309965,  0.32654382,  0.87168381,\n",
              "        0.14796269,  4.07356836,  1.34379504,  2.06524359,  2.13162402,\n",
              "        0.36154918, -0.72641974,  0.79012355, -0.02321522, -0.73037447,\n",
              "        0.78640287, -0.3422165 ,  1.06287306,  0.12290359, -0.19465697,\n",
              "       -1.44960405,  0.00695349, -0.33786967,  0.4815318 , -0.10240611,\n",
              "       -1.29106382, -1.12086272,  1.13573905,  0.33456958,  0.68445236])"
            ]
          },
          "metadata": {
            "tags": []
          },
          "execution_count": 18
        }
      ]
    },
    {
      "metadata": {
        "id": "y1RC3GaS9qu8",
        "colab_type": "code",
        "colab": {}
      },
      "cell_type": "code",
      "source": [
        "y = np.random.normal(mu, sigma, 100)"
      ],
      "execution_count": 0,
      "outputs": []
    },
    {
      "metadata": {
        "id": "uT9gAE4n9qu-",
        "colab_type": "code",
        "colab": {
          "base_uri": "https://localhost:8080/",
          "height": 34
        },
        "outputId": "de4ba0aa-69d5-4a50-c419-47d11936c2c6"
      },
      "cell_type": "code",
      "source": [
        "print np.mean(y)"
      ],
      "execution_count": 20,
      "outputs": [
        {
          "output_type": "stream",
          "text": [
            "0.09723390932260532\n"
          ],
          "name": "stdout"
        }
      ]
    },
    {
      "metadata": {
        "id": "pkQ1cqv79qvA",
        "colab_type": "code",
        "colab": {
          "base_uri": "https://localhost:8080/",
          "height": 34
        },
        "outputId": "9a643a8e-ac53-4d6a-ab35-41dfb82f7859"
      },
      "cell_type": "code",
      "source": [
        "print np.var(y)"
      ],
      "execution_count": 21,
      "outputs": [
        {
          "output_type": "stream",
          "text": [
            "1.0196150926044774\n"
          ],
          "name": "stdout"
        }
      ]
    },
    {
      "metadata": {
        "id": "BrtO3suY9qvD",
        "colab_type": "code",
        "colab": {
          "base_uri": "https://localhost:8080/",
          "height": 51
        },
        "outputId": "09a1999a-0359-46d3-a3c2-23e6a99b3685"
      },
      "cell_type": "code",
      "source": [
        "print np.sqrt(np.var(y))\n",
        "print np.std(y)"
      ],
      "execution_count": 22,
      "outputs": [
        {
          "output_type": "stream",
          "text": [
            "1.0097599182996309\n",
            "1.0097599182996309\n"
          ],
          "name": "stdout"
        }
      ]
    },
    {
      "metadata": {
        "id": "U-5H7vfZ9qvG",
        "colab_type": "text"
      },
      "cell_type": "markdown",
      "source": [
        "### if we raise the number of sample to a larger number, the mean and std will be more close to (0, 1)"
      ]
    },
    {
      "metadata": {
        "id": "i97sXHW_9qvH",
        "colab_type": "code",
        "colab": {
          "base_uri": "https://localhost:8080/",
          "height": 51
        },
        "outputId": "170e21d5-936b-4a9a-ea8d-f456c094d2f4"
      },
      "cell_type": "code",
      "source": [
        "y = np.random.normal(mu, sigma, 5000)\n",
        "print np.mean(y)\n",
        "print np.std(y)"
      ],
      "execution_count": 23,
      "outputs": [
        {
          "output_type": "stream",
          "text": [
            "-0.009226467934225878\n",
            "1.000250958084492\n"
          ],
          "name": "stdout"
        }
      ]
    },
    {
      "metadata": {
        "id": "CStd86YW9qvJ",
        "colab_type": "text"
      },
      "cell_type": "markdown",
      "source": [
        "## 2.3.2 Graphics"
      ]
    },
    {
      "metadata": {
        "id": "DEJtd_p79qvJ",
        "colab_type": "code",
        "colab": {
          "base_uri": "https://localhost:8080/",
          "height": 376
        },
        "outputId": "7ee9b8f1-d916-4375-ea50-bd352feb71bc"
      },
      "cell_type": "code",
      "source": [
        "import numpy as np  # for calculation purpose, let use np.array \n",
        "import random # for the random \n",
        "\n",
        "x = np.random.normal(0, 1, 100)\n",
        "y = np.random.normal(0, 1, 100)\n",
        "\n",
        "# In python, matplotlib is the most used library for plot \n",
        "# matplotlib.pyplot is a collection of command style functions that make matplotlib work like MATLAB.\n",
        "import matplotlib.pyplot as plt\n",
        "\n",
        "\n",
        "plt.plot(x, y, 'bo') # please use plt.plot? to look at more options \n",
        "plt.ylabel(\"this is the y-axis\")\n",
        "plt.xlabel(\"this is the x-axis\")\n",
        "plt.title(\"Plot of X vs Y\")\n",
        "plt.savefig('Figure.pdf') # use plt.savefig function to save images\n",
        "plt.show() \n"
      ],
      "execution_count": 24,
      "outputs": [
        {
          "output_type": "display_data",
          "data": {
            "image/png": "[encoded data removed]",
            "text/plain": [
              "<Figure size 576x396 with 1 Axes>"
            ]
          },
          "metadata": {
            "tags": []
          }
        }
      ]
    },
    {
      "metadata": {
        "id": "yO2oaR_89qvM",
        "colab_type": "code",
        "colab": {
          "base_uri": "https://localhost:8080/",
          "height": 34
        },
        "outputId": "f494b138-f66c-4a1b-d259-a1fefc517eaa"
      },
      "cell_type": "code",
      "source": [
        "x = np.arange(1, 11) # note the arange excludes right end of rande specification \n",
        "print x \n",
        "\n"
      ],
      "execution_count": 25,
      "outputs": [
        {
          "output_type": "stream",
          "text": [
            "[ 1  2  3  4  5  6  7  8  9 10]\n"
          ],
          "name": "stdout"
        }
      ]
    },
    {
      "metadata": {
        "id": "3lfNX1eJ9qvQ",
        "colab_type": "text"
      },
      "cell_type": "markdown",
      "source": [
        "### note: this actually can result in unexpected results; check np.arange(0.2, 0.6, 0.4) vs np.arange(0.2, 1.6, 1.4);"
      ]
    },
    {
      "metadata": {
        "id": "vM3a_N9J9qvR",
        "colab_type": "code",
        "colab": {
          "base_uri": "https://localhost:8080/",
          "height": 170
        },
        "outputId": "46e08999-1244-4608-ad89-c194dc0a78a3"
      },
      "cell_type": "code",
      "source": [
        "# in order to use Pi, math module needs to loaded first\n",
        "import math\n",
        "x = np.linspace(-math.pi, math.pi, num = 50)\n",
        "print x"
      ],
      "execution_count": 26,
      "outputs": [
        {
          "output_type": "stream",
          "text": [
            "[-3.14159265 -3.01336438 -2.88513611 -2.75690784 -2.62867957 -2.5004513\n",
            " -2.37222302 -2.24399475 -2.11576648 -1.98753821 -1.85930994 -1.73108167\n",
            " -1.60285339 -1.47462512 -1.34639685 -1.21816858 -1.08994031 -0.96171204\n",
            " -0.83348377 -0.70525549 -0.57702722 -0.44879895 -0.32057068 -0.19234241\n",
            " -0.06411414  0.06411414  0.19234241  0.32057068  0.44879895  0.57702722\n",
            "  0.70525549  0.83348377  0.96171204  1.08994031  1.21816858  1.34639685\n",
            "  1.47462512  1.60285339  1.73108167  1.85930994  1.98753821  2.11576648\n",
            "  2.24399475  2.37222302  2.5004513   2.62867957  2.75690784  2.88513611\n",
            "  3.01336438  3.14159265]\n"
          ],
          "name": "stdout"
        }
      ]
    },
    {
      "metadata": {
        "id": "xkWrvno79qvT",
        "colab_type": "code",
        "colab": {}
      },
      "cell_type": "code",
      "source": [
        "import matplotlib.cm as cm\n",
        "import matplotlib.mlab as mlab\n",
        "y = x\n",
        "X, Y = np.meshgrid(x,y)"
      ],
      "execution_count": 0,
      "outputs": []
    },
    {
      "metadata": {
        "id": "ybpTsma99qvW",
        "colab_type": "code",
        "colab": {
          "base_uri": "https://localhost:8080/",
          "height": 255
        },
        "outputId": "f7d35aa2-3503-4925-a7e6-68d536ff9d1a"
      },
      "cell_type": "code",
      "source": [
        "whos"
      ],
      "execution_count": 28,
      "outputs": [
        {
          "output_type": "stream",
          "text": [
            "Variable   Type       Data/Info\n",
            "-------------------------------\n",
            "X          ndarray    50x50: 2500 elems, type `float64`, 20000 bytes\n",
            "Y          ndarray    50x50: 2500 elems, type `float64`, 20000 bytes\n",
            "cm         module     <module 'matplotlib.cm' f<...>kages/matplotlib/cm.pyc'>\n",
            "math       module     <module 'math' (built-in)>\n",
            "mlab       module     <module 'matplotlib.mlab'<...>ges/matplotlib/mlab.pyc'>\n",
            "mu         int        0\n",
            "np         module     <module 'numpy' from '/us<...>ages/numpy/__init__.pyc'>\n",
            "plt        module     <module 'matplotlib.pyplo<...>s/matplotlib/pyplot.pyc'>\n",
            "random     module     <module 'random' from '/u<...>ib/python2.7/random.pyc'>\n",
            "sigma      int        1\n",
            "x          ndarray    50: 50 elems, type `float64`, 400 bytes\n",
            "y          ndarray    50: 50 elems, type `float64`, 400 bytes\n"
          ],
          "name": "stdout"
        }
      ]
    },
    {
      "metadata": {
        "id": "Rpo7yfBR9qvY",
        "colab_type": "code",
        "colab": {
          "base_uri": "https://localhost:8080/",
          "height": 347
        },
        "outputId": "705c262b-c353-4a6f-aeb0-035a91eca258"
      },
      "cell_type": "code",
      "source": [
        "f = np.cos(Y)/(1 + np.square(X))\n",
        "CS = plt.contour(X, Y, f)\n",
        "plt.show()\n"
      ],
      "execution_count": 29,
      "outputs": [
        {
          "output_type": "display_data",
          "data": {
            "image/png": "[encoded data removed]",
            "text/plain": [
              "<Figure size 576x396 with 1 Axes>"
            ]
          },
          "metadata": {
            "tags": []
          }
        }
      ]
    },
    {
      "metadata": {
        "id": "vx70CjvY9qva",
        "colab_type": "text"
      },
      "cell_type": "markdown",
      "source": [
        "### same as above, use plt.contour? to explore the options"
      ]
    },
    {
      "metadata": {
        "id": "oKdSxQul9qva",
        "colab_type": "code",
        "colab": {
          "base_uri": "https://localhost:8080/",
          "height": 347
        },
        "outputId": "11de3c55-2611-4092-f994-d239dcd77a6b"
      },
      "cell_type": "code",
      "source": [
        "fa = (f - f.T)/2 #f.T for transpose or tranpose(f)\n",
        "plt.imshow(fa, extent=(x[0], x[-1], y[0], y[-1])) \n",
        "plt.show()"
      ],
      "execution_count": 30,
      "outputs": [
        {
          "output_type": "display_data",
          "data": {
            "image/png": "[encoded data removed]",
            "text/plain": [
              "<Figure size 576x396 with 1 Axes>"
            ]
          },
          "metadata": {
            "tags": []
          }
        }
      ]
    },
    {
      "metadata": {
        "id": "BcE1TVXw9qvc",
        "colab_type": "text"
      },
      "cell_type": "markdown",
      "source": [
        "### I think imshow looks nicer for heatmap, use 'extent =' fix the x, y axis"
      ]
    },
    {
      "metadata": {
        "scrolled": true,
        "id": "vt-QwdDa9qvd",
        "colab_type": "code",
        "colab": {
          "base_uri": "https://localhost:8080/",
          "height": 330
        },
        "outputId": "cc5efac0-6c88-47b5-a866-fd1b146ddd6f"
      },
      "cell_type": "code",
      "source": [
        "from mpl_toolkits.mplot3d import axes3d\n",
        "fig = plt.figure()\n",
        "ax = fig.add_subplot(111, projection='3d')\n",
        "ax.plot_wireframe(X, Y, fa)\n",
        "\n",
        "plt.show()"
      ],
      "execution_count": 31,
      "outputs": [
        {
          "output_type": "display_data",
          "data": {
            "image/png": "[encoded data removed]",
            "text/plain": [
              "<Figure size 576x396 with 1 Axes>"
            ]
          },
          "metadata": {
            "tags": []
          }
        }
      ]
    },
    {
      "metadata": {
        "id": "t71lTGHS9qvf",
        "colab_type": "text"
      },
      "cell_type": "markdown",
      "source": [
        "## 2.3.3 Indexing Data"
      ]
    },
    {
      "metadata": {
        "id": "4Z0tiFyx9qvg",
        "colab_type": "code",
        "colab": {
          "base_uri": "https://localhost:8080/",
          "height": 85
        },
        "outputId": "3f649665-e921-4fca-cc6c-de89c80b5713"
      },
      "cell_type": "code",
      "source": [
        "A = np.arange(1,17,1).reshape(4, 4).transpose()\n",
        "print A"
      ],
      "execution_count": 32,
      "outputs": [
        {
          "output_type": "stream",
          "text": [
            "[[ 1  5  9 13]\n",
            " [ 2  6 10 14]\n",
            " [ 3  7 11 15]\n",
            " [ 4  8 12 16]]\n"
          ],
          "name": "stdout"
        }
      ]
    },
    {
      "metadata": {
        "id": "jfM_XVYP9qvi",
        "colab_type": "code",
        "colab": {
          "base_uri": "https://localhost:8080/",
          "height": 34
        },
        "outputId": "d7f179f7-78f7-4c71-bafd-e789b5e89950"
      },
      "cell_type": "code",
      "source": [
        "A[2, 3]"
      ],
      "execution_count": 33,
      "outputs": [
        {
          "output_type": "execute_result",
          "data": {
            "text/plain": [
              "15"
            ]
          },
          "metadata": {
            "tags": []
          },
          "execution_count": 33
        }
      ]
    },
    {
      "metadata": {
        "id": "N1Ox8V0S9qvk",
        "colab_type": "text"
      },
      "cell_type": "markdown",
      "source": [
        "### try the same index as the book, but we got different number. The reason is R starts the index from 1 (Matlab too), but Python starts the index from 0. To select the same number (10) as the book did, we reduce the index by 1"
      ]
    },
    {
      "metadata": {
        "id": "lWocHxc29qvk",
        "colab_type": "code",
        "colab": {
          "base_uri": "https://localhost:8080/",
          "height": 34
        },
        "outputId": "30fbd4fa-bfb0-4ce9-a930-284aba82446d"
      },
      "cell_type": "code",
      "source": [
        "A[1, 2]"
      ],
      "execution_count": 34,
      "outputs": [
        {
          "output_type": "execute_result",
          "data": {
            "text/plain": [
              "10"
            ]
          },
          "metadata": {
            "tags": []
          },
          "execution_count": 34
        }
      ]
    },
    {
      "metadata": {
        "id": "ceWAVzEW9qvn",
        "colab_type": "text"
      },
      "cell_type": "markdown",
      "source": [
        "### to select a submatrix, need the non-singleton dimension of your indexing array to be aligned with the axis you're indexing into, e.g. for an n x m 2D subarray: A[n by 1 array,1 by m array]"
      ]
    },
    {
      "metadata": {
        "id": "v0tFZaaq9qvn",
        "colab_type": "code",
        "colab": {
          "base_uri": "https://localhost:8080/",
          "height": 51
        },
        "outputId": "f34eeffa-f915-4348-eafb-8ade48c88bec"
      },
      "cell_type": "code",
      "source": [
        "A[[[0],[2]], [1,3]]"
      ],
      "execution_count": 35,
      "outputs": [
        {
          "output_type": "execute_result",
          "data": {
            "text/plain": [
              "array([[ 5, 13],\n",
              "       [ 7, 15]])"
            ]
          },
          "metadata": {
            "tags": []
          },
          "execution_count": 35
        }
      ]
    },
    {
      "metadata": {
        "id": "fC6rvt4v9qvp",
        "colab_type": "code",
        "colab": {
          "base_uri": "https://localhost:8080/",
          "height": 68
        },
        "outputId": "4548d06b-6f68-4454-e30e-08dbd9b451a3"
      },
      "cell_type": "code",
      "source": [
        "A[0:3:1, 1:4:1] # this is another way of doing it"
      ],
      "execution_count": 36,
      "outputs": [
        {
          "output_type": "execute_result",
          "data": {
            "text/plain": [
              "array([[ 5,  9, 13],\n",
              "       [ 6, 10, 14],\n",
              "       [ 7, 11, 15]])"
            ]
          },
          "metadata": {
            "tags": []
          },
          "execution_count": 36
        }
      ]
    },
    {
      "metadata": {
        "id": "J9RcFMlu9qvt",
        "colab_type": "code",
        "colab": {
          "base_uri": "https://localhost:8080/",
          "height": 51
        },
        "outputId": "c28d7b25-c545-4b57-f312-2ac7a7c49031"
      },
      "cell_type": "code",
      "source": [
        "A[0:2,:]"
      ],
      "execution_count": 37,
      "outputs": [
        {
          "output_type": "execute_result",
          "data": {
            "text/plain": [
              "array([[ 1,  5,  9, 13],\n",
              "       [ 2,  6, 10, 14]])"
            ]
          },
          "metadata": {
            "tags": []
          },
          "execution_count": 37
        }
      ]
    },
    {
      "metadata": {
        "id": "_8PSd7sE9qvx",
        "colab_type": "code",
        "colab": {
          "base_uri": "https://localhost:8080/",
          "height": 85
        },
        "outputId": "5c3e3172-2dcd-4ddd-b736-28468a0a6f61"
      },
      "cell_type": "code",
      "source": [
        "A[:,0:2]"
      ],
      "execution_count": 38,
      "outputs": [
        {
          "output_type": "execute_result",
          "data": {
            "text/plain": [
              "array([[1, 5],\n",
              "       [2, 6],\n",
              "       [3, 7],\n",
              "       [4, 8]])"
            ]
          },
          "metadata": {
            "tags": []
          },
          "execution_count": 38
        }
      ]
    },
    {
      "metadata": {
        "id": "5VguqO329qvz",
        "colab_type": "text"
      },
      "cell_type": "markdown",
      "source": [
        "### The last two examples include either no index for the columns or no index for the rows. These indicate that Python should include all columns or all rows, respectively"
      ]
    },
    {
      "metadata": {
        "id": "bToActI_9qvz",
        "colab_type": "code",
        "colab": {
          "base_uri": "https://localhost:8080/",
          "height": 34
        },
        "outputId": "d59b1c63-262a-4f06-be52-bd7081f51027"
      },
      "cell_type": "code",
      "source": [
        "A[0,:]"
      ],
      "execution_count": 39,
      "outputs": [
        {
          "output_type": "execute_result",
          "data": {
            "text/plain": [
              "array([ 1,  5,  9, 13])"
            ]
          },
          "metadata": {
            "tags": []
          },
          "execution_count": 39
        }
      ]
    },
    {
      "metadata": {
        "id": "BaKfb74g9qv4",
        "colab_type": "text"
      },
      "cell_type": "markdown",
      "source": [
        "### '-' sign has a different meaning in Python. This means index from the end, -1 means the last element "
      ]
    },
    {
      "metadata": {
        "id": "iT6Kuh9e9qv4",
        "colab_type": "code",
        "colab": {
          "base_uri": "https://localhost:8080/",
          "height": 34
        },
        "outputId": "9024dffa-ef38-45ab-8dba-168fea4a7493"
      },
      "cell_type": "code",
      "source": [
        "A[-1, -1] "
      ],
      "execution_count": 40,
      "outputs": [
        {
          "output_type": "execute_result",
          "data": {
            "text/plain": [
              "16"
            ]
          },
          "metadata": {
            "tags": []
          },
          "execution_count": 40
        }
      ]
    },
    {
      "metadata": {
        "id": "MyjGnbN59qv6",
        "colab_type": "text"
      },
      "cell_type": "markdown",
      "source": [
        "### There are quite a few ways to let Python keep all rows except certain index. Here boolean was used."
      ]
    },
    {
      "metadata": {
        "id": "EHRmSQPc9qv7",
        "colab_type": "code",
        "colab": {}
      },
      "cell_type": "code",
      "source": [
        "ind = np.ones((4,), bool)\n",
        "ind[[0,2]] = False"
      ],
      "execution_count": 0,
      "outputs": []
    },
    {
      "metadata": {
        "id": "koIaZXQ69qv8",
        "colab_type": "code",
        "colab": {
          "base_uri": "https://localhost:8080/",
          "height": 34
        },
        "outputId": "8055d340-a8b6-4f29-c080-fb2e53c84c7f"
      },
      "cell_type": "code",
      "source": [
        "ind"
      ],
      "execution_count": 42,
      "outputs": [
        {
          "output_type": "execute_result",
          "data": {
            "text/plain": [
              "array([False,  True, False,  True])"
            ]
          },
          "metadata": {
            "tags": []
          },
          "execution_count": 42
        }
      ]
    },
    {
      "metadata": {
        "id": "uG3mSMW09qv-",
        "colab_type": "code",
        "colab": {
          "base_uri": "https://localhost:8080/",
          "height": 51
        },
        "outputId": "50ad0169-81c7-4b83-d47b-6386d8e3441b"
      },
      "cell_type": "code",
      "source": [
        "A[ind,:]"
      ],
      "execution_count": 43,
      "outputs": [
        {
          "output_type": "execute_result",
          "data": {
            "text/plain": [
              "array([[ 2,  6, 10, 14],\n",
              "       [ 4,  8, 12, 16]])"
            ]
          },
          "metadata": {
            "tags": []
          },
          "execution_count": 43
        }
      ]
    },
    {
      "metadata": {
        "id": "QkL6oX449qv_",
        "colab_type": "code",
        "colab": {
          "base_uri": "https://localhost:8080/",
          "height": 51
        },
        "outputId": "925104be-52ae-4f79-8531-4ddbf1c5043d"
      },
      "cell_type": "code",
      "source": [
        "A[ind]"
      ],
      "execution_count": 44,
      "outputs": [
        {
          "output_type": "execute_result",
          "data": {
            "text/plain": [
              "array([[ 2,  6, 10, 14],\n",
              "       [ 4,  8, 12, 16]])"
            ]
          },
          "metadata": {
            "tags": []
          },
          "execution_count": 44
        }
      ]
    },
    {
      "metadata": {
        "id": "sRBf73uO9qwD",
        "colab_type": "code",
        "colab": {
          "base_uri": "https://localhost:8080/",
          "height": 34
        },
        "outputId": "9ee657de-0179-4c93-ddb8-db041787132c"
      },
      "cell_type": "code",
      "source": [
        "A.shape"
      ],
      "execution_count": 45,
      "outputs": [
        {
          "output_type": "execute_result",
          "data": {
            "text/plain": [
              "(4, 4)"
            ]
          },
          "metadata": {
            "tags": []
          },
          "execution_count": 45
        }
      ]
    },
    {
      "metadata": {
        "collapsed": true,
        "id": "yvZvEWqM9qwE",
        "colab_type": "text"
      },
      "cell_type": "markdown",
      "source": [
        "## 2.3.4 Loading Data"
      ]
    },
    {
      "metadata": {
        "id": "k9CKSlRa9qwF",
        "colab_type": "text"
      },
      "cell_type": "markdown",
      "source": [
        "### In Python, Pandas is a common used module to read from file into a data frame. I downloaded the Auto.csv from the book website. First, take a look at the csv file. There are headers, missing value is marked by '?'  ."
      ]
    },
    {
      "metadata": {
        "id": "cYLCnM5s-xj1",
        "colab_type": "code",
        "colab": {}
      },
      "cell_type": "code",
      "source": [
        ""
      ],
      "execution_count": 0,
      "outputs": []
    },
    {
      "metadata": {
        "id": "u9nMg6Q-9qwF",
        "colab_type": "code",
        "colab": {}
      },
      "cell_type": "code",
      "source": [
        "import pandas as pd \n",
        "Auto = pd.read_csv('Auto.csv', header=0, na_values='?')"
      ],
      "execution_count": 0,
      "outputs": []
    },
    {
      "metadata": {
        "id": "7cOKvD069qwH",
        "colab_type": "text"
      },
      "cell_type": "markdown",
      "source": [
        "### check one record with missing value, and make sure the missing value is correctly imported "
      ]
    },
    {
      "metadata": {
        "id": "ViH6ijwD9qwJ",
        "colab_type": "code",
        "colab": {
          "base_uri": "https://localhost:8080/",
          "height": 187
        },
        "outputId": "7ada8e89-aa94-47ac-bc90-81439ed2c7bd"
      },
      "cell_type": "code",
      "source": [
        "Auto.iloc[32]"
      ],
      "execution_count": 48,
      "outputs": [
        {
          "output_type": "execute_result",
          "data": {
            "text/plain": [
              "mpg                     25\n",
              "cylinders                4\n",
              "displacement            98\n",
              "horsepower             NaN\n",
              "weight                2046\n",
              "acceleration            19\n",
              "year                    71\n",
              "origin                   1\n",
              "name            ford pinto\n",
              "Name: 32, dtype: object"
            ]
          },
          "metadata": {
            "tags": []
          },
          "execution_count": 48
        }
      ]
    },
    {
      "metadata": {
        "id": "qaP92syH9qwL",
        "colab_type": "text"
      },
      "cell_type": "markdown",
      "source": [
        "### Use the same function as in ndarray to find out the dimension of the data frame "
      ]
    },
    {
      "metadata": {
        "id": "MHSc6dcZ9qwL",
        "colab_type": "code",
        "colab": {
          "base_uri": "https://localhost:8080/",
          "height": 34
        },
        "outputId": "53f2dc31-1734-4a71-b1a7-ced263b8c6f1"
      },
      "cell_type": "code",
      "source": [
        "Auto.shape"
      ],
      "execution_count": 49,
      "outputs": [
        {
          "output_type": "execute_result",
          "data": {
            "text/plain": [
              "(397, 9)"
            ]
          },
          "metadata": {
            "tags": []
          },
          "execution_count": 49
        }
      ]
    },
    {
      "metadata": {
        "id": "covqwqGL9qwT",
        "colab_type": "code",
        "colab": {
          "base_uri": "https://localhost:8080/",
          "height": 173
        },
        "outputId": "2cbc84f3-e5b9-47ec-980a-caf25993dfc6"
      },
      "cell_type": "code",
      "source": [
        "Auto[:4]"
      ],
      "execution_count": 50,
      "outputs": [
        {
          "output_type": "execute_result",
          "data": {
            "text/html": [
              "<div>\n",
              "<style scoped>\n",
              "    .dataframe tbody tr th:only-of-type {\n",
              "        vertical-align: middle;\n",
              "    }\n",
              "\n",
              "    .dataframe tbody tr th {\n",
              "        vertical-align: top;\n",
              "    }\n",
              "\n",
              "    .dataframe thead th {\n",
              "        text-align: right;\n",
              "    }\n",
              "</style>\n",
              "<table border=\"1\" class=\"dataframe\">\n",
              "  <thead>\n",
              "    <tr style=\"text-align: right;\">\n",
              "      <th></th>\n",
              "      <th>mpg</th>\n",
              "      <th>cylinders</th>\n",
              "      <th>displacement</th>\n",
              "      <th>horsepower</th>\n",
              "      <th>weight</th>\n",
              "      <th>acceleration</th>\n",
              "      <th>year</th>\n",
              "      <th>origin</th>\n",
              "      <th>name</th>\n",
              "    </tr>\n",
              "  </thead>\n",
              "  <tbody>\n",
              "    <tr>\n",
              "      <th>0</th>\n",
              "      <td>18.0</td>\n",
              "      <td>8</td>\n",
              "      <td>307.0</td>\n",
              "      <td>130.0</td>\n",
              "      <td>3504</td>\n",
              "      <td>12.0</td>\n",
              "      <td>70</td>\n",
              "      <td>1</td>\n",
              "      <td>chevrolet chevelle malibu</td>\n",
              "    </tr>\n",
              "    <tr>\n",
              "      <th>1</th>\n",
              "      <td>15.0</td>\n",
              "      <td>8</td>\n",
              "      <td>350.0</td>\n",
              "      <td>165.0</td>\n",
              "      <td>3693</td>\n",
              "      <td>11.5</td>\n",
              "      <td>70</td>\n",
              "      <td>1</td>\n",
              "      <td>buick skylark 320</td>\n",
              "    </tr>\n",
              "    <tr>\n",
              "      <th>2</th>\n",
              "      <td>18.0</td>\n",
              "      <td>8</td>\n",
              "      <td>318.0</td>\n",
              "      <td>150.0</td>\n",
              "      <td>3436</td>\n",
              "      <td>11.0</td>\n",
              "      <td>70</td>\n",
              "      <td>1</td>\n",
              "      <td>plymouth satellite</td>\n",
              "    </tr>\n",
              "    <tr>\n",
              "      <th>3</th>\n",
              "      <td>16.0</td>\n",
              "      <td>8</td>\n",
              "      <td>304.0</td>\n",
              "      <td>150.0</td>\n",
              "      <td>3433</td>\n",
              "      <td>12.0</td>\n",
              "      <td>70</td>\n",
              "      <td>1</td>\n",
              "      <td>amc rebel sst</td>\n",
              "    </tr>\n",
              "  </tbody>\n",
              "</table>\n",
              "</div>"
            ],
            "text/plain": [
              "    mpg  cylinders  displacement  horsepower  weight  acceleration  year  \\\n",
              "0  18.0          8         307.0       130.0    3504          12.0    70   \n",
              "1  15.0          8         350.0       165.0    3693          11.5    70   \n",
              "2  18.0          8         318.0       150.0    3436          11.0    70   \n",
              "3  16.0          8         304.0       150.0    3433          12.0    70   \n",
              "\n",
              "   origin                       name  \n",
              "0       1  chevrolet chevelle malibu  \n",
              "1       1          buick skylark 320  \n",
              "2       1         plymouth satellite  \n",
              "3       1              amc rebel sst  "
            ]
          },
          "metadata": {
            "tags": []
          },
          "execution_count": 50
        }
      ]
    },
    {
      "metadata": {
        "id": "eRGtGRfM9qwW",
        "colab_type": "code",
        "colab": {
          "base_uri": "https://localhost:8080/",
          "height": 173
        },
        "outputId": "3d25b707-7a5c-4274-c21c-fa499b0eca1b"
      },
      "cell_type": "code",
      "source": [
        "Auto.iloc[:4, :2]"
      ],
      "execution_count": 51,
      "outputs": [
        {
          "output_type": "execute_result",
          "data": {
            "text/html": [
              "<div>\n",
              "<style scoped>\n",
              "    .dataframe tbody tr th:only-of-type {\n",
              "        vertical-align: middle;\n",
              "    }\n",
              "\n",
              "    .dataframe tbody tr th {\n",
              "        vertical-align: top;\n",
              "    }\n",
              "\n",
              "    .dataframe thead th {\n",
              "        text-align: right;\n",
              "    }\n",
              "</style>\n",
              "<table border=\"1\" class=\"dataframe\">\n",
              "  <thead>\n",
              "    <tr style=\"text-align: right;\">\n",
              "      <th></th>\n",
              "      <th>mpg</th>\n",
              "      <th>cylinders</th>\n",
              "    </tr>\n",
              "  </thead>\n",
              "  <tbody>\n",
              "    <tr>\n",
              "      <th>0</th>\n",
              "      <td>18.0</td>\n",
              "      <td>8</td>\n",
              "    </tr>\n",
              "    <tr>\n",
              "      <th>1</th>\n",
              "      <td>15.0</td>\n",
              "      <td>8</td>\n",
              "    </tr>\n",
              "    <tr>\n",
              "      <th>2</th>\n",
              "      <td>18.0</td>\n",
              "      <td>8</td>\n",
              "    </tr>\n",
              "    <tr>\n",
              "      <th>3</th>\n",
              "      <td>16.0</td>\n",
              "      <td>8</td>\n",
              "    </tr>\n",
              "  </tbody>\n",
              "</table>\n",
              "</div>"
            ],
            "text/plain": [
              "    mpg  cylinders\n",
              "0  18.0          8\n",
              "1  15.0          8\n",
              "2  18.0          8\n",
              "3  16.0          8"
            ]
          },
          "metadata": {
            "tags": []
          },
          "execution_count": 51
        }
      ]
    },
    {
      "metadata": {
        "id": "-_dN7GVs9qwa",
        "colab_type": "code",
        "colab": {}
      },
      "cell_type": "code",
      "source": [
        "list(Auto)"
      ],
      "execution_count": 0,
      "outputs": []
    },
    {
      "metadata": {
        "id": "_7RqW-Pq9qwd",
        "colab_type": "text"
      },
      "cell_type": "markdown",
      "source": [
        "### Use .isnull and .sum to find out how many NaNs in each variables"
      ]
    },
    {
      "metadata": {
        "id": "ZQFtirxH9qwe",
        "colab_type": "code",
        "colab": {
          "base_uri": "https://localhost:8080/",
          "height": 187
        },
        "outputId": "88d71043-82f3-482a-8acf-35cb066a45b0"
      },
      "cell_type": "code",
      "source": [
        "Auto.isnull().sum()"
      ],
      "execution_count": 52,
      "outputs": [
        {
          "output_type": "execute_result",
          "data": {
            "text/plain": [
              "mpg             0\n",
              "cylinders       0\n",
              "displacement    0\n",
              "horsepower      5\n",
              "weight          0\n",
              "acceleration    0\n",
              "year            0\n",
              "origin          0\n",
              "name            0\n",
              "dtype: int64"
            ]
          },
          "metadata": {
            "tags": []
          },
          "execution_count": 52
        }
      ]
    },
    {
      "metadata": {
        "id": "C-PrMEH_9qwh",
        "colab_type": "text"
      },
      "cell_type": "markdown",
      "source": [
        "### after the previous steps, there are 397 obs in the data and only 5 with missing values. We can just drop the ones with missing values  "
      ]
    },
    {
      "metadata": {
        "id": "mq67P4nh9qwi",
        "colab_type": "code",
        "colab": {}
      },
      "cell_type": "code",
      "source": [
        "Auto = Auto.dropna()"
      ],
      "execution_count": 0,
      "outputs": []
    },
    {
      "metadata": {
        "id": "dQpbb9729qwj",
        "colab_type": "code",
        "colab": {
          "base_uri": "https://localhost:8080/",
          "height": 34
        },
        "outputId": "db78c29e-5aaa-49f0-a9a6-842625b3fd30"
      },
      "cell_type": "code",
      "source": [
        "Auto.shape"
      ],
      "execution_count": 54,
      "outputs": [
        {
          "output_type": "execute_result",
          "data": {
            "text/plain": [
              "(392, 9)"
            ]
          },
          "metadata": {
            "tags": []
          },
          "execution_count": 54
        }
      ]
    },
    {
      "metadata": {
        "id": "aXbGhKVV9qwm",
        "colab_type": "text"
      },
      "cell_type": "markdown",
      "source": [
        "## 2.3.5 Additional Graphical and Numerical Summaries"
      ]
    },
    {
      "metadata": {
        "id": "ag7wXX9L9qwm",
        "colab_type": "text"
      },
      "cell_type": "markdown",
      "source": [
        "### refer a column of data frame by name, by using a '.'. Ref the options in plt.plot for more."
      ]
    },
    {
      "metadata": {
        "id": "XfK2VNVp9qwn",
        "colab_type": "code",
        "colab": {
          "base_uri": "https://localhost:8080/",
          "height": 347
        },
        "outputId": "89fc4293-032a-4796-e7df-41337e2ca805"
      },
      "cell_type": "code",
      "source": [
        "plt.plot(Auto.cylinders, Auto.mpg, 'ro')\n",
        "plt.show()"
      ],
      "execution_count": 55,
      "outputs": [
        {
          "output_type": "display_data",
          "data": {
            "image/png": "[encoded data removed]",
            "text/plain": [
              "<Figure size 576x396 with 1 Axes>"
            ]
          },
          "metadata": {
            "tags": []
          }
        }
      ]
    },
    {
      "metadata": {
        "id": "tB9J1MkC9qwo",
        "colab_type": "text"
      },
      "cell_type": "markdown",
      "source": [
        "### Use .hist to get the histogram of certain variables. column = to specify which variable"
      ]
    },
    {
      "metadata": {
        "id": "ovnzt9Vn9qwp",
        "colab_type": "code",
        "colab": {
          "base_uri": "https://localhost:8080/",
          "height": 362
        },
        "outputId": "59c11381-7d27-49ef-b4ee-5236ffc9fa41"
      },
      "cell_type": "code",
      "source": [
        "Auto.hist(column = ['cylinders', 'mpg'])\n",
        "plt.show()"
      ],
      "execution_count": 56,
      "outputs": [
        {
          "output_type": "display_data",
          "data": {
            "image/png": "[encoded data removed]",
            "text/plain": [
              "<Figure size 576x396 with 2 Axes>"
            ]
          },
          "metadata": {
            "tags": []
          }
        }
      ]
    },
    {
      "metadata": {
        "id": "Rj0wcp9C9qwq",
        "colab_type": "text"
      },
      "cell_type": "markdown",
      "source": [
        "### Use the .describe() to get a summary of the data frame. Use .describe ( include = 'all' ) for mix types, use describe(include = [np.number]) for numerical columns, use describe(include = ['O']) for objects."
      ]
    },
    {
      "metadata": {
        "id": "JipOcpQo9qwr",
        "colab_type": "code",
        "colab": {
          "base_uri": "https://localhost:8080/",
          "height": 297
        },
        "outputId": "9b77b562-dc84-4f4e-b5c3-4cf553e7887c"
      },
      "cell_type": "code",
      "source": [
        "Auto.describe()"
      ],
      "execution_count": 57,
      "outputs": [
        {
          "output_type": "execute_result",
          "data": {
            "text/html": [
              "<div>\n",
              "<style scoped>\n",
              "    .dataframe tbody tr th:only-of-type {\n",
              "        vertical-align: middle;\n",
              "    }\n",
              "\n",
              "    .dataframe tbody tr th {\n",
              "        vertical-align: top;\n",
              "    }\n",
              "\n",
              "    .dataframe thead th {\n",
              "        text-align: right;\n",
              "    }\n",
              "</style>\n",
              "<table border=\"1\" class=\"dataframe\">\n",
              "  <thead>\n",
              "    <tr style=\"text-align: right;\">\n",
              "      <th></th>\n",
              "      <th>mpg</th>\n",
              "      <th>cylinders</th>\n",
              "      <th>displacement</th>\n",
              "      <th>horsepower</th>\n",
              "      <th>weight</th>\n",
              "      <th>acceleration</th>\n",
              "      <th>year</th>\n",
              "      <th>origin</th>\n",
              "    </tr>\n",
              "  </thead>\n",
              "  <tbody>\n",
              "    <tr>\n",
              "      <th>count</th>\n",
              "      <td>392.000000</td>\n",
              "      <td>392.000000</td>\n",
              "      <td>392.000000</td>\n",
              "      <td>392.000000</td>\n",
              "      <td>392.000000</td>\n",
              "      <td>392.000000</td>\n",
              "      <td>392.000000</td>\n",
              "      <td>392.000000</td>\n",
              "    </tr>\n",
              "    <tr>\n",
              "      <th>mean</th>\n",
              "      <td>23.445918</td>\n",
              "      <td>5.471939</td>\n",
              "      <td>194.411990</td>\n",
              "      <td>104.469388</td>\n",
              "      <td>2977.584184</td>\n",
              "      <td>15.541327</td>\n",
              "      <td>75.979592</td>\n",
              "      <td>1.576531</td>\n",
              "    </tr>\n",
              "    <tr>\n",
              "      <th>std</th>\n",
              "      <td>7.805007</td>\n",
              "      <td>1.705783</td>\n",
              "      <td>104.644004</td>\n",
              "      <td>38.491160</td>\n",
              "      <td>849.402560</td>\n",
              "      <td>2.758864</td>\n",
              "      <td>3.683737</td>\n",
              "      <td>0.805518</td>\n",
              "    </tr>\n",
              "    <tr>\n",
              "      <th>min</th>\n",
              "      <td>9.000000</td>\n",
              "      <td>3.000000</td>\n",
              "      <td>68.000000</td>\n",
              "      <td>46.000000</td>\n",
              "      <td>1613.000000</td>\n",
              "      <td>8.000000</td>\n",
              "      <td>70.000000</td>\n",
              "      <td>1.000000</td>\n",
              "    </tr>\n",
              "    <tr>\n",
              "      <th>25%</th>\n",
              "      <td>17.000000</td>\n",
              "      <td>4.000000</td>\n",
              "      <td>105.000000</td>\n",
              "      <td>75.000000</td>\n",
              "      <td>2225.250000</td>\n",
              "      <td>13.775000</td>\n",
              "      <td>73.000000</td>\n",
              "      <td>1.000000</td>\n",
              "    </tr>\n",
              "    <tr>\n",
              "      <th>50%</th>\n",
              "      <td>22.750000</td>\n",
              "      <td>4.000000</td>\n",
              "      <td>151.000000</td>\n",
              "      <td>93.500000</td>\n",
              "      <td>2803.500000</td>\n",
              "      <td>15.500000</td>\n",
              "      <td>76.000000</td>\n",
              "      <td>1.000000</td>\n",
              "    </tr>\n",
              "    <tr>\n",
              "      <th>75%</th>\n",
              "      <td>29.000000</td>\n",
              "      <td>8.000000</td>\n",
              "      <td>275.750000</td>\n",
              "      <td>126.000000</td>\n",
              "      <td>3614.750000</td>\n",
              "      <td>17.025000</td>\n",
              "      <td>79.000000</td>\n",
              "      <td>2.000000</td>\n",
              "    </tr>\n",
              "    <tr>\n",
              "      <th>max</th>\n",
              "      <td>46.600000</td>\n",
              "      <td>8.000000</td>\n",
              "      <td>455.000000</td>\n",
              "      <td>230.000000</td>\n",
              "      <td>5140.000000</td>\n",
              "      <td>24.800000</td>\n",
              "      <td>82.000000</td>\n",
              "      <td>3.000000</td>\n",
              "    </tr>\n",
              "  </tbody>\n",
              "</table>\n",
              "</div>"
            ],
            "text/plain": [
              "              mpg   cylinders  displacement  horsepower       weight  \\\n",
              "count  392.000000  392.000000    392.000000  392.000000   392.000000   \n",
              "mean    23.445918    5.471939    194.411990  104.469388  2977.584184   \n",
              "std      7.805007    1.705783    104.644004   38.491160   849.402560   \n",
              "min      9.000000    3.000000     68.000000   46.000000  1613.000000   \n",
              "25%     17.000000    4.000000    105.000000   75.000000  2225.250000   \n",
              "50%     22.750000    4.000000    151.000000   93.500000  2803.500000   \n",
              "75%     29.000000    8.000000    275.750000  126.000000  3614.750000   \n",
              "max     46.600000    8.000000    455.000000  230.000000  5140.000000   \n",
              "\n",
              "       acceleration        year      origin  \n",
              "count    392.000000  392.000000  392.000000  \n",
              "mean      15.541327   75.979592    1.576531  \n",
              "std        2.758864    3.683737    0.805518  \n",
              "min        8.000000   70.000000    1.000000  \n",
              "25%       13.775000   73.000000    1.000000  \n",
              "50%       15.500000   76.000000    1.000000  \n",
              "75%       17.025000   79.000000    2.000000  \n",
              "max       24.800000   82.000000    3.000000  "
            ]
          },
          "metadata": {
            "tags": []
          },
          "execution_count": 57
        }
      ]
    },
    {
      "metadata": {
        "id": "BvEzhKCi9qwt",
        "colab_type": "text"
      },
      "cell_type": "markdown",
      "source": [
        "### We can change type of certain variable(s). Here changed the cylinders into categorical variable "
      ]
    },
    {
      "metadata": {
        "id": "R7F3ih5k9qwt",
        "colab_type": "code",
        "colab": {}
      },
      "cell_type": "code",
      "source": [
        "Auto['cylinders'] = Auto['cylinders'].astype('category')"
      ],
      "execution_count": 0,
      "outputs": []
    },
    {
      "metadata": {
        "id": "m0Uj_Lps9qwu",
        "colab_type": "code",
        "colab": {
          "base_uri": "https://localhost:8080/",
          "height": 297
        },
        "outputId": "64e54680-716d-4ecf-835a-6041f41d11fc"
      },
      "cell_type": "code",
      "source": [
        "Auto.describe()"
      ],
      "execution_count": 59,
      "outputs": [
        {
          "output_type": "execute_result",
          "data": {
            "text/html": [
              "<div>\n",
              "<style scoped>\n",
              "    .dataframe tbody tr th:only-of-type {\n",
              "        vertical-align: middle;\n",
              "    }\n",
              "\n",
              "    .dataframe tbody tr th {\n",
              "        vertical-align: top;\n",
              "    }\n",
              "\n",
              "    .dataframe thead th {\n",
              "        text-align: right;\n",
              "    }\n",
              "</style>\n",
              "<table border=\"1\" class=\"dataframe\">\n",
              "  <thead>\n",
              "    <tr style=\"text-align: right;\">\n",
              "      <th></th>\n",
              "      <th>mpg</th>\n",
              "      <th>displacement</th>\n",
              "      <th>horsepower</th>\n",
              "      <th>weight</th>\n",
              "      <th>acceleration</th>\n",
              "      <th>year</th>\n",
              "      <th>origin</th>\n",
              "    </tr>\n",
              "  </thead>\n",
              "  <tbody>\n",
              "    <tr>\n",
              "      <th>count</th>\n",
              "      <td>392.000000</td>\n",
              "      <td>392.000000</td>\n",
              "      <td>392.000000</td>\n",
              "      <td>392.000000</td>\n",
              "      <td>392.000000</td>\n",
              "      <td>392.000000</td>\n",
              "      <td>392.000000</td>\n",
              "    </tr>\n",
              "    <tr>\n",
              "      <th>mean</th>\n",
              "      <td>23.445918</td>\n",
              "      <td>194.411990</td>\n",
              "      <td>104.469388</td>\n",
              "      <td>2977.584184</td>\n",
              "      <td>15.541327</td>\n",
              "      <td>75.979592</td>\n",
              "      <td>1.576531</td>\n",
              "    </tr>\n",
              "    <tr>\n",
              "      <th>std</th>\n",
              "      <td>7.805007</td>\n",
              "      <td>104.644004</td>\n",
              "      <td>38.491160</td>\n",
              "      <td>849.402560</td>\n",
              "      <td>2.758864</td>\n",
              "      <td>3.683737</td>\n",
              "      <td>0.805518</td>\n",
              "    </tr>\n",
              "    <tr>\n",
              "      <th>min</th>\n",
              "      <td>9.000000</td>\n",
              "      <td>68.000000</td>\n",
              "      <td>46.000000</td>\n",
              "      <td>1613.000000</td>\n",
              "      <td>8.000000</td>\n",
              "      <td>70.000000</td>\n",
              "      <td>1.000000</td>\n",
              "    </tr>\n",
              "    <tr>\n",
              "      <th>25%</th>\n",
              "      <td>17.000000</td>\n",
              "      <td>105.000000</td>\n",
              "      <td>75.000000</td>\n",
              "      <td>2225.250000</td>\n",
              "      <td>13.775000</td>\n",
              "      <td>73.000000</td>\n",
              "      <td>1.000000</td>\n",
              "    </tr>\n",
              "    <tr>\n",
              "      <th>50%</th>\n",
              "      <td>22.750000</td>\n",
              "      <td>151.000000</td>\n",
              "      <td>93.500000</td>\n",
              "      <td>2803.500000</td>\n",
              "      <td>15.500000</td>\n",
              "      <td>76.000000</td>\n",
              "      <td>1.000000</td>\n",
              "    </tr>\n",
              "    <tr>\n",
              "      <th>75%</th>\n",
              "      <td>29.000000</td>\n",
              "      <td>275.750000</td>\n",
              "      <td>126.000000</td>\n",
              "      <td>3614.750000</td>\n",
              "      <td>17.025000</td>\n",
              "      <td>79.000000</td>\n",
              "      <td>2.000000</td>\n",
              "    </tr>\n",
              "    <tr>\n",
              "      <th>max</th>\n",
              "      <td>46.600000</td>\n",
              "      <td>455.000000</td>\n",
              "      <td>230.000000</td>\n",
              "      <td>5140.000000</td>\n",
              "      <td>24.800000</td>\n",
              "      <td>82.000000</td>\n",
              "      <td>3.000000</td>\n",
              "    </tr>\n",
              "  </tbody>\n",
              "</table>\n",
              "</div>"
            ],
            "text/plain": [
              "              mpg  displacement  horsepower       weight  acceleration  \\\n",
              "count  392.000000    392.000000  392.000000   392.000000    392.000000   \n",
              "mean    23.445918    194.411990  104.469388  2977.584184     15.541327   \n",
              "std      7.805007    104.644004   38.491160   849.402560      2.758864   \n",
              "min      9.000000     68.000000   46.000000  1613.000000      8.000000   \n",
              "25%     17.000000    105.000000   75.000000  2225.250000     13.775000   \n",
              "50%     22.750000    151.000000   93.500000  2803.500000     15.500000   \n",
              "75%     29.000000    275.750000  126.000000  3614.750000     17.025000   \n",
              "max     46.600000    455.000000  230.000000  5140.000000     24.800000   \n",
              "\n",
              "             year      origin  \n",
              "count  392.000000  392.000000  \n",
              "mean    75.979592    1.576531  \n",
              "std      3.683737    0.805518  \n",
              "min     70.000000    1.000000  \n",
              "25%     73.000000    1.000000  \n",
              "50%     76.000000    1.000000  \n",
              "75%     79.000000    2.000000  \n",
              "max     82.000000    3.000000  "
            ]
          },
          "metadata": {
            "tags": []
          },
          "execution_count": 59
        }
      ]
    },
    {
      "metadata": {
        "id": "i9NhaVKB9qww",
        "colab_type": "code",
        "colab": {
          "base_uri": "https://localhost:8080/",
          "height": 390
        },
        "outputId": "7152aab1-46a8-4833-c28c-fb61b46019b7"
      },
      "cell_type": "code",
      "source": [
        "Auto.describe(include= 'all')"
      ],
      "execution_count": 60,
      "outputs": [
        {
          "output_type": "execute_result",
          "data": {
            "text/html": [
              "<div>\n",
              "<style scoped>\n",
              "    .dataframe tbody tr th:only-of-type {\n",
              "        vertical-align: middle;\n",
              "    }\n",
              "\n",
              "    .dataframe tbody tr th {\n",
              "        vertical-align: top;\n",
              "    }\n",
              "\n",
              "    .dataframe thead th {\n",
              "        text-align: right;\n",
              "    }\n",
              "</style>\n",
              "<table border=\"1\" class=\"dataframe\">\n",
              "  <thead>\n",
              "    <tr style=\"text-align: right;\">\n",
              "      <th></th>\n",
              "      <th>mpg</th>\n",
              "      <th>cylinders</th>\n",
              "      <th>displacement</th>\n",
              "      <th>horsepower</th>\n",
              "      <th>weight</th>\n",
              "      <th>acceleration</th>\n",
              "      <th>year</th>\n",
              "      <th>origin</th>\n",
              "      <th>name</th>\n",
              "    </tr>\n",
              "  </thead>\n",
              "  <tbody>\n",
              "    <tr>\n",
              "      <th>count</th>\n",
              "      <td>392.000000</td>\n",
              "      <td>392.0</td>\n",
              "      <td>392.000000</td>\n",
              "      <td>392.000000</td>\n",
              "      <td>392.000000</td>\n",
              "      <td>392.000000</td>\n",
              "      <td>392.000000</td>\n",
              "      <td>392.000000</td>\n",
              "      <td>392</td>\n",
              "    </tr>\n",
              "    <tr>\n",
              "      <th>unique</th>\n",
              "      <td>NaN</td>\n",
              "      <td>5.0</td>\n",
              "      <td>NaN</td>\n",
              "      <td>NaN</td>\n",
              "      <td>NaN</td>\n",
              "      <td>NaN</td>\n",
              "      <td>NaN</td>\n",
              "      <td>NaN</td>\n",
              "      <td>301</td>\n",
              "    </tr>\n",
              "    <tr>\n",
              "      <th>top</th>\n",
              "      <td>NaN</td>\n",
              "      <td>4.0</td>\n",
              "      <td>NaN</td>\n",
              "      <td>NaN</td>\n",
              "      <td>NaN</td>\n",
              "      <td>NaN</td>\n",
              "      <td>NaN</td>\n",
              "      <td>NaN</td>\n",
              "      <td>ford pinto</td>\n",
              "    </tr>\n",
              "    <tr>\n",
              "      <th>freq</th>\n",
              "      <td>NaN</td>\n",
              "      <td>199.0</td>\n",
              "      <td>NaN</td>\n",
              "      <td>NaN</td>\n",
              "      <td>NaN</td>\n",
              "      <td>NaN</td>\n",
              "      <td>NaN</td>\n",
              "      <td>NaN</td>\n",
              "      <td>5</td>\n",
              "    </tr>\n",
              "    <tr>\n",
              "      <th>mean</th>\n",
              "      <td>23.445918</td>\n",
              "      <td>NaN</td>\n",
              "      <td>194.411990</td>\n",
              "      <td>104.469388</td>\n",
              "      <td>2977.584184</td>\n",
              "      <td>15.541327</td>\n",
              "      <td>75.979592</td>\n",
              "      <td>1.576531</td>\n",
              "      <td>NaN</td>\n",
              "    </tr>\n",
              "    <tr>\n",
              "      <th>std</th>\n",
              "      <td>7.805007</td>\n",
              "      <td>NaN</td>\n",
              "      <td>104.644004</td>\n",
              "      <td>38.491160</td>\n",
              "      <td>849.402560</td>\n",
              "      <td>2.758864</td>\n",
              "      <td>3.683737</td>\n",
              "      <td>0.805518</td>\n",
              "      <td>NaN</td>\n",
              "    </tr>\n",
              "    <tr>\n",
              "      <th>min</th>\n",
              "      <td>9.000000</td>\n",
              "      <td>NaN</td>\n",
              "      <td>68.000000</td>\n",
              "      <td>46.000000</td>\n",
              "      <td>1613.000000</td>\n",
              "      <td>8.000000</td>\n",
              "      <td>70.000000</td>\n",
              "      <td>1.000000</td>\n",
              "      <td>NaN</td>\n",
              "    </tr>\n",
              "    <tr>\n",
              "      <th>25%</th>\n",
              "      <td>17.000000</td>\n",
              "      <td>NaN</td>\n",
              "      <td>105.000000</td>\n",
              "      <td>75.000000</td>\n",
              "      <td>2225.250000</td>\n",
              "      <td>13.775000</td>\n",
              "      <td>73.000000</td>\n",
              "      <td>1.000000</td>\n",
              "      <td>NaN</td>\n",
              "    </tr>\n",
              "    <tr>\n",
              "      <th>50%</th>\n",
              "      <td>22.750000</td>\n",
              "      <td>NaN</td>\n",
              "      <td>151.000000</td>\n",
              "      <td>93.500000</td>\n",
              "      <td>2803.500000</td>\n",
              "      <td>15.500000</td>\n",
              "      <td>76.000000</td>\n",
              "      <td>1.000000</td>\n",
              "      <td>NaN</td>\n",
              "    </tr>\n",
              "    <tr>\n",
              "      <th>75%</th>\n",
              "      <td>29.000000</td>\n",
              "      <td>NaN</td>\n",
              "      <td>275.750000</td>\n",
              "      <td>126.000000</td>\n",
              "      <td>3614.750000</td>\n",
              "      <td>17.025000</td>\n",
              "      <td>79.000000</td>\n",
              "      <td>2.000000</td>\n",
              "      <td>NaN</td>\n",
              "    </tr>\n",
              "    <tr>\n",
              "      <th>max</th>\n",
              "      <td>46.600000</td>\n",
              "      <td>NaN</td>\n",
              "      <td>455.000000</td>\n",
              "      <td>230.000000</td>\n",
              "      <td>5140.000000</td>\n",
              "      <td>24.800000</td>\n",
              "      <td>82.000000</td>\n",
              "      <td>3.000000</td>\n",
              "      <td>NaN</td>\n",
              "    </tr>\n",
              "  </tbody>\n",
              "</table>\n",
              "</div>"
            ],
            "text/plain": [
              "               mpg  cylinders  displacement  horsepower       weight  \\\n",
              "count   392.000000      392.0    392.000000  392.000000   392.000000   \n",
              "unique         NaN        5.0           NaN         NaN          NaN   \n",
              "top            NaN        4.0           NaN         NaN          NaN   \n",
              "freq           NaN      199.0           NaN         NaN          NaN   \n",
              "mean     23.445918        NaN    194.411990  104.469388  2977.584184   \n",
              "std       7.805007        NaN    104.644004   38.491160   849.402560   \n",
              "min       9.000000        NaN     68.000000   46.000000  1613.000000   \n",
              "25%      17.000000        NaN    105.000000   75.000000  2225.250000   \n",
              "50%      22.750000        NaN    151.000000   93.500000  2803.500000   \n",
              "75%      29.000000        NaN    275.750000  126.000000  3614.750000   \n",
              "max      46.600000        NaN    455.000000  230.000000  5140.000000   \n",
              "\n",
              "        acceleration        year      origin        name  \n",
              "count     392.000000  392.000000  392.000000         392  \n",
              "unique           NaN         NaN         NaN         301  \n",
              "top              NaN         NaN         NaN  ford pinto  \n",
              "freq             NaN         NaN         NaN           5  \n",
              "mean       15.541327   75.979592    1.576531         NaN  \n",
              "std         2.758864    3.683737    0.805518         NaN  \n",
              "min         8.000000   70.000000    1.000000         NaN  \n",
              "25%        13.775000   73.000000    1.000000         NaN  \n",
              "50%        15.500000   76.000000    1.000000         NaN  \n",
              "75%        17.025000   79.000000    2.000000         NaN  \n",
              "max        24.800000   82.000000    3.000000         NaN  "
            ]
          },
          "metadata": {
            "tags": []
          },
          "execution_count": 60
        }
      ]
    }
  ]
}